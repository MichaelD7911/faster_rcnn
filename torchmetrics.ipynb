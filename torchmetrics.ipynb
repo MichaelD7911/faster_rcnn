{
 "cells": [
  {
   "cell_type": "code",
   "execution_count": 1,
   "id": "a5396a4e-22dc-44f6-af96-aa74dc64402c",
   "metadata": {},
   "outputs": [],
   "source": [
    "import matplotlib.pyplot as plt\n",
    "import matplotlib.patches as patches\n",
    "from torch import tensor\n",
    "from torchmetrics.detection import MeanAveragePrecision\n",
    "from torchvision.ops import box_iou"
   ]
  },
  {
   "cell_type": "code",
   "execution_count": 2,
   "id": "1dfdb739-d7b3-48a2-a489-bd9306567929",
   "metadata": {},
   "outputs": [],
   "source": [
    "def calculate_map(predictions, targets, iou_threshold=0.5):\n",
    "    APs = []\n",
    "    for prediction, target in zip(predictions, targets):\n",
    "        pred_boxes = prediction['boxes']\n",
    "        target_boxes = target['boxes']\n",
    "\n",
    "        if len(pred_boxes) == 0 or len(target_boxes) == 0:\n",
    "            APs.append(0)\n",
    "            continue\n",
    "\n",
    "        iou_matrix = box_iou(pred_boxes, target_boxes)\n",
    "        ious = iou_matrix.max(dim=1)[0]  # max IoU for each prediction\n",
    "        true_positive = (ious >= iou_threshold).sum().item()\n",
    "        \n",
    "        # Precision: TP / (TP + FP), FP = len(pred_boxes) - TP\n",
    "        if len(pred_boxes) > 0:\n",
    "            precision = true_positive / len(pred_boxes)\n",
    "        else:\n",
    "            precision = 0\n",
    "        \n",
    "        APs.append(precision)\n",
    "    \n",
    "    return sum(APs) / len(APs) if APs else 0.0"
   ]
  },
  {
   "cell_type": "code",
   "execution_count": 3,
   "id": "8dc14412-72f0-41c7-a357-cab0a559957d",
   "metadata": {},
   "outputs": [],
   "source": [
    "targets = {\n",
    "    \"image_1\": [\n",
    "        [50, 50, 150, 150],  # Bounding box 1\n",
    "        [30, 30, 100, 100]   # Bounding box 2\n",
    "    ],\n",
    "    # \"image_2\": [\n",
    "    #     [200, 200, 300, 300]  # Bounding box 1\n",
    "    # ]\n",
    "}\n"
   ]
  },
  {
   "cell_type": "code",
   "execution_count": 4,
   "id": "3abf145f-949c-4915-88dc-2259586bda80",
   "metadata": {},
   "outputs": [],
   "source": [
    "predictions = {\n",
    "    \"image_1\": [\n",
    "        ([55, 55, 155, 155], 0.9),  # Bounding box 1 with confidence 0.9\n",
    "        ([28, 28, 98, 98], 0.8),    # Bounding box 2 with confidence 0.8\n",
    "        ([10, 10, 50, 50], 0.6)     # False positive (extra prediction)\n",
    "    ],\n",
    "    # \"image_2\": [\n",
    "    #     ([198, 198, 302, 302], 0.85) # Bounding box 1 with confidence 0.85\n",
    "    # ]\n",
    "}\n"
   ]
  },
  {
   "cell_type": "code",
   "execution_count": 5,
   "id": "435e0207-5d60-46a3-82a9-0b3ad27426bd",
   "metadata": {},
   "outputs": [],
   "source": [
    "\n",
    "\n",
    "# Sample Image Size (if using a blank image)\n",
    "image_width = 400\n",
    "image_height = 400\n",
    "\n",
    "\n",
    "\n",
    "# Function to plot bounding boxes\n",
    "def plot_bounding_boxes(image_name):\n",
    "    fig, ax = plt.subplots(1)\n",
    "    ax.set_xlim(0, image_width)\n",
    "    ax.set_ylim(0, image_height)\n",
    "    ax.invert_yaxis()  # To make the y-axis start from the top-left corner\n",
    "\n",
    "    # Ground truth boxes in red\n",
    "    for box in targets[image_name]:\n",
    "        rect = patches.Rectangle(\n",
    "            (box[0], box[1]),  # Bottom left corner\n",
    "            box[2] - box[0],   # Width\n",
    "            box[3] - box[1],   # Height\n",
    "            linewidth=2, edgecolor='r', facecolor='none', label='Ground Truth'\n",
    "        )\n",
    "        ax.add_patch(rect)\n",
    "\n",
    "    # Predicted boxes in green\n",
    "    for box, confidence in predictions[image_name]:\n",
    "        rect = patches.Rectangle(\n",
    "            (box[0], box[1]),  # Bottom left corner\n",
    "            box[2] - box[0],   # Width\n",
    "            box[3] - box[1],   # Height\n",
    "            linewidth=2, edgecolor='g', facecolor='none', linestyle='--',\n",
    "            label=f'Predicted (Conf: {confidence:.2f})'\n",
    "        )\n",
    "        ax.add_patch(rect)\n",
    "\n",
    "    # Show the plot\n",
    "    ax.legend(handles=[patches.Patch(color='red', label='Ground Truth'), patches.Patch(color='green', label='Predicted')])\n",
    "    plt.title(f\"Bounding Boxes for {image_name}\")\n",
    "    plt.show()\n",
    "\n",
    "# Plot bounding boxes for \"image_1\"\n",
    "\n"
   ]
  },
  {
   "cell_type": "code",
   "execution_count": 6,
   "id": "69d67423-b5b8-423a-869b-84f367a81c63",
   "metadata": {},
   "outputs": [
    {
     "data": {
      "image/png": "[encoded data removed]",
      "text/plain": [
       "<Figure size 640x480 with 1 Axes>"
      ]
     },
     "metadata": {},
     "output_type": "display_data"
    }
   ],
   "source": [
    "plot_bounding_boxes('image_1')"
   ]
  },
  {
   "cell_type": "code",
   "execution_count": null,
   "id": "b262d36e-7ca0-4e57-9013-36a5381c9e89",
   "metadata": {},
   "outputs": [],
   "source": []
  },
  {
   "cell_type": "code",
   "execution_count": null,
   "id": "022a3b55-248c-4ad5-9acb-2301fce83612",
   "metadata": {},
   "outputs": [],
   "source": []
  },
  {
   "cell_type": "code",
   "execution_count": null,
   "id": "ed377447-9bd4-4dfd-b832-ad21470715f3",
   "metadata": {},
   "outputs": [],
   "source": []
  },
  {
   "cell_type": "code",
   "execution_count": 8,
   "id": "cb3afa42-4f5e-46c6-88fb-2a66f9eaa581",
   "metadata": {},
   "outputs": [
    {
     "ename": "ValueError",
     "evalue": "Expected argument `preds` to be of type Sequence, but got {'image_1': [([55, 55, 155, 155], 0.9), ([28, 28, 98, 98], 0.8), ([10, 10, 50, 50], 0.6)], 'image_2': [([198, 198, 302, 302], 0.85)]}",
     "output_type": "error",
     "traceback": [
      "\u001b[0;31m---------------------------------------------------------------------------\u001b[0m",
      "\u001b[0;31mValueError\u001b[0m                                Traceback (most recent call last)",
      "Cell \u001b[0;32mIn[8], line 2\u001b[0m\n\u001b[1;32m      1\u001b[0m metric \u001b[38;5;241m=\u001b[39m MeanAveragePrecision(iou_type\u001b[38;5;241m=\u001b[39m\u001b[38;5;124m\"\u001b[39m\u001b[38;5;124mbbox\u001b[39m\u001b[38;5;124m\"\u001b[39m)\n\u001b[0;32m----> 2\u001b[0m \u001b[43mmetric\u001b[49m\u001b[38;5;241;43m.\u001b[39;49m\u001b[43mupdate\u001b[49m\u001b[43m(\u001b[49m\u001b[43mpredictions\u001b[49m\u001b[43m,\u001b[49m\u001b[43m \u001b[49m\u001b[43mtargets\u001b[49m\u001b[43m)\u001b[49m\n",
      "File \u001b[0;32m~/miniconda3/envs/openmmlab/lib/python3.8/site-packages/torchmetrics/metric.py:483\u001b[0m, in \u001b[0;36mMetric._wrap_update.<locals>.wrapped_func\u001b[0;34m(*args, **kwargs)\u001b[0m\n\u001b[1;32m    481\u001b[0m \u001b[38;5;28;01mwith\u001b[39;00m torch\u001b[38;5;241m.\u001b[39mset_grad_enabled(\u001b[38;5;28mself\u001b[39m\u001b[38;5;241m.\u001b[39m_enable_grad):\n\u001b[1;32m    482\u001b[0m     \u001b[38;5;28;01mtry\u001b[39;00m:\n\u001b[0;32m--> 483\u001b[0m         \u001b[43mupdate\u001b[49m\u001b[43m(\u001b[49m\u001b[38;5;241;43m*\u001b[39;49m\u001b[43margs\u001b[49m\u001b[43m,\u001b[49m\u001b[43m \u001b[49m\u001b[38;5;241;43m*\u001b[39;49m\u001b[38;5;241;43m*\u001b[39;49m\u001b[43mkwargs\u001b[49m\u001b[43m)\u001b[49m\n\u001b[1;32m    484\u001b[0m     \u001b[38;5;28;01mexcept\u001b[39;00m \u001b[38;5;167;01mRuntimeError\u001b[39;00m \u001b[38;5;28;01mas\u001b[39;00m err:\n\u001b[1;32m    485\u001b[0m         \u001b[38;5;28;01mif\u001b[39;00m \u001b[38;5;124m\"\u001b[39m\u001b[38;5;124mExpected all tensors to be on\u001b[39m\u001b[38;5;124m\"\u001b[39m \u001b[38;5;129;01min\u001b[39;00m \u001b[38;5;28mstr\u001b[39m(err):\n",
      "File \u001b[0;32m~/miniconda3/envs/openmmlab/lib/python3.8/site-packages/torchmetrics/detection/mean_ap.py:492\u001b[0m, in \u001b[0;36mMeanAveragePrecision.update\u001b[0;34m(self, preds, target)\u001b[0m\n\u001b[1;32m    470\u001b[0m \u001b[38;5;28;01mdef\u001b[39;00m \u001b[38;5;21mupdate\u001b[39m(\u001b[38;5;28mself\u001b[39m, preds: List[Dict[\u001b[38;5;28mstr\u001b[39m, Tensor]], target: List[Dict[\u001b[38;5;28mstr\u001b[39m, Tensor]]) \u001b[38;5;241m-\u001b[39m\u001b[38;5;241m>\u001b[39m \u001b[38;5;28;01mNone\u001b[39;00m:\n\u001b[1;32m    471\u001b[0m \u001b[38;5;250m    \u001b[39m\u001b[38;5;124;03m\"\"\"Update metric state.\u001b[39;00m\n\u001b[1;32m    472\u001b[0m \n\u001b[1;32m    473\u001b[0m \u001b[38;5;124;03m    Raises:\u001b[39;00m\n\u001b[0;32m   (...)\u001b[0m\n\u001b[1;32m    490\u001b[0m \n\u001b[1;32m    491\u001b[0m \u001b[38;5;124;03m    \"\"\"\u001b[39;00m\n\u001b[0;32m--> 492\u001b[0m     \u001b[43m_input_validator\u001b[49m\u001b[43m(\u001b[49m\u001b[43mpreds\u001b[49m\u001b[43m,\u001b[49m\u001b[43m \u001b[49m\u001b[43mtarget\u001b[49m\u001b[43m,\u001b[49m\u001b[43m \u001b[49m\u001b[43miou_type\u001b[49m\u001b[38;5;241;43m=\u001b[39;49m\u001b[38;5;28;43mself\u001b[39;49m\u001b[38;5;241;43m.\u001b[39;49m\u001b[43miou_type\u001b[49m\u001b[43m)\u001b[49m  \u001b[38;5;66;03m# type: ignore[arg-type]\u001b[39;00m\n\u001b[1;32m    494\u001b[0m     \u001b[38;5;28;01mfor\u001b[39;00m item \u001b[38;5;129;01min\u001b[39;00m preds:\n\u001b[1;32m    495\u001b[0m         bbox_detection, mask_detection \u001b[38;5;241m=\u001b[39m \u001b[38;5;28mself\u001b[39m\u001b[38;5;241m.\u001b[39m_get_safe_item_values(item, warn\u001b[38;5;241m=\u001b[39m\u001b[38;5;28mself\u001b[39m\u001b[38;5;241m.\u001b[39mwarn_on_many_detections)\n",
      "File \u001b[0;32m~/miniconda3/envs/openmmlab/lib/python3.8/site-packages/torchmetrics/detection/helpers.py:35\u001b[0m, in \u001b[0;36m_input_validator\u001b[0;34m(preds, targets, iou_type, ignore_score)\u001b[0m\n\u001b[1;32m     32\u001b[0m item_val_name \u001b[38;5;241m=\u001b[39m [name_map[tp] \u001b[38;5;28;01mfor\u001b[39;00m tp \u001b[38;5;129;01min\u001b[39;00m iou_type]\n\u001b[1;32m     34\u001b[0m \u001b[38;5;28;01mif\u001b[39;00m \u001b[38;5;129;01mnot\u001b[39;00m \u001b[38;5;28misinstance\u001b[39m(preds, Sequence):\n\u001b[0;32m---> 35\u001b[0m     \u001b[38;5;28;01mraise\u001b[39;00m \u001b[38;5;167;01mValueError\u001b[39;00m(\u001b[38;5;124mf\u001b[39m\u001b[38;5;124m\"\u001b[39m\u001b[38;5;124mExpected argument `preds` to be of type Sequence, but got \u001b[39m\u001b[38;5;132;01m{\u001b[39;00mpreds\u001b[38;5;132;01m}\u001b[39;00m\u001b[38;5;124m\"\u001b[39m)\n\u001b[1;32m     36\u001b[0m \u001b[38;5;28;01mif\u001b[39;00m \u001b[38;5;129;01mnot\u001b[39;00m \u001b[38;5;28misinstance\u001b[39m(targets, Sequence):\n\u001b[1;32m     37\u001b[0m     \u001b[38;5;28;01mraise\u001b[39;00m \u001b[38;5;167;01mValueError\u001b[39;00m(\u001b[38;5;124mf\u001b[39m\u001b[38;5;124m\"\u001b[39m\u001b[38;5;124mExpected argument `target` to be of type Sequence, but got \u001b[39m\u001b[38;5;132;01m{\u001b[39;00mtargets\u001b[38;5;132;01m}\u001b[39;00m\u001b[38;5;124m\"\u001b[39m)\n",
      "\u001b[0;31mValueError\u001b[0m: Expected argument `preds` to be of type Sequence, but got {'image_1': [([55, 55, 155, 155], 0.9), ([28, 28, 98, 98], 0.8), ([10, 10, 50, 50], 0.6)], 'image_2': [([198, 198, 302, 302], 0.85)]}"
     ]
    }
   ],
   "source": [
    "metric = MeanAveragePrecision(iou_type=\"bbox\")\n",
    "metric.update(predictions, targets)"
   ]
  },
  {
   "cell_type": "code",
   "execution_count": 15,
   "id": "e57e8530-0339-4ecc-b061-686ca675a46b",
   "metadata": {},
   "outputs": [
    {
     "ename": "NameError",
     "evalue": "name 'preds' is not defined",
     "output_type": "error",
     "traceback": [
      "\u001b[0;31m---------------------------------------------------------------------------\u001b[0m",
      "\u001b[0;31mNameError\u001b[0m                                 Traceback (most recent call last)",
      "Cell \u001b[0;32mIn[15], line 1\u001b[0m\n\u001b[0;32m----> 1\u001b[0m metric\u001b[38;5;241m.\u001b[39mupdate(\u001b[43mpreds\u001b[49m, target)\n",
      "\u001b[0;31mNameError\u001b[0m: name 'preds' is not defined"
     ]
    }
   ],
   "source": []
  },
  {
   "cell_type": "code",
   "execution_count": 16,
   "id": "09f2486f-b4f2-414f-8098-979e1ec085aa",
   "metadata": {},
   "outputs": [
    {
     "name": "stderr",
     "output_type": "stream",
     "text": [
      "/home/michael/miniconda3/envs/openmmlab/lib/python3.8/site-packages/torchmetrics/utilities/prints.py:43: UserWarning: The ``compute`` method of metric MeanAveragePrecision was called before the ``update`` method which may lead to errors, as metric states have not yet been updated.\n",
      "  warnings.warn(*args, **kwargs)  # noqa: B028\n"
     ]
    },
    {
     "data": {
      "text/plain": [
       "{'map': tensor(-1.),\n",
       " 'map_50': tensor(-1.),\n",
       " 'map_75': tensor(-1.),\n",
       " 'map_small': tensor(-1.),\n",
       " 'map_medium': tensor(-1.),\n",
       " 'map_large': tensor(-1.),\n",
       " 'mar_1': tensor(-1.),\n",
       " 'mar_10': tensor(-1.),\n",
       " 'mar_100': tensor(-1.),\n",
       " 'mar_small': tensor(-1.),\n",
       " 'mar_medium': tensor(-1.),\n",
       " 'mar_large': tensor(-1.),\n",
       " 'map_per_class': tensor(-1.),\n",
       " 'mar_100_per_class': tensor(-1.),\n",
       " 'classes': tensor([], dtype=torch.int32)}"
      ]
     },
     "execution_count": 16,
     "metadata": {},
     "output_type": "execute_result"
    }
   ],
   "source": [
    "metric.compute()"
   ]
  },
  {
   "cell_type": "code",
   "execution_count": 5,
   "id": "d055f9f4-ca85-4827-9887-031fda384376",
   "metadata": {},
   "outputs": [],
   "source": [
    "metric = MeanAveragePrecision(iou_type=\"bbox\")"
   ]
  },
  {
   "cell_type": "code",
   "execution_count": 6,
   "id": "fea16355-b362-49b7-add5-865e480663b2",
   "metadata": {},
   "outputs": [],
   "source": [
    "metric.update(preds, target)\n"
   ]
  },
  {
   "cell_type": "code",
   "execution_count": 9,
   "id": "e1d74675-cf81-4563-9f7f-1ff6fe0f6d5e",
   "metadata": {},
   "outputs": [],
   "source": [
    "from pprint import pprint"
   ]
  },
  {
   "cell_type": "code",
   "execution_count": 23,
   "id": "3afeaebc-7c06-4a8b-baad-36ba7137ef49",
   "metadata": {},
   "outputs": [],
   "source": [
    "x = metric.compute()['map_50']"
   ]
  },
  {
   "cell_type": "code",
   "execution_count": 24,
   "id": "54d3e94f-56bd-4010-b4eb-7f6c2cec6e8f",
   "metadata": {},
   "outputs": [
    {
     "data": {
      "text/plain": [
       "tensor(0.6000)"
      ]
     },
     "execution_count": 24,
     "metadata": {},
     "output_type": "execute_result"
    }
   ],
   "source": [
    "x"
   ]
  },
  {
   "cell_type": "code",
   "execution_count": 25,
   "id": "190d7a3e-54de-441e-bd51-559117810cfc",
   "metadata": {},
   "outputs": [
    {
     "data": {
      "text/plain": [
       "tensor(0.7000)"
      ]
     },
     "execution_count": 25,
     "metadata": {},
     "output_type": "execute_result"
    }
   ],
   "source": [
    "x  +.1\n"
   ]
  },
  {
   "cell_type": "code",
   "execution_count": 29,
   "id": "3161f788-9d57-4e45-8a84-894199194a06",
   "metadata": {},
   "outputs": [
    {
     "data": {
      "text/plain": [
       "tensor(0.6000)"
      ]
     },
     "execution_count": 29,
     "metadata": {},
     "output_type": "execute_result"
    }
   ],
   "source": [
    "x"
   ]
  },
  {
   "cell_type": "code",
   "execution_count": 26,
   "id": "240032b8-8d9b-42b8-9717-b85d4e03092d",
   "metadata": {},
   "outputs": [],
   "source": [
    "a = 0\n"
   ]
  },
  {
   "cell_type": "code",
   "execution_count": 27,
   "id": "c7e7591c-a12c-4e5b-92a4-b58d26db64ac",
   "metadata": {},
   "outputs": [],
   "source": [
    "a+=x"
   ]
  },
  {
   "cell_type": "code",
   "execution_count": 28,
   "id": "b7621d05-07d0-41ef-b0c3-9bd92f94be71",
   "metadata": {},
   "outputs": [
    {
     "data": {
      "text/plain": [
       "tensor(0.6000)"
      ]
     },
     "execution_count": 28,
     "metadata": {},
     "output_type": "execute_result"
    }
   ],
   "source": [
    "a\n"
   ]
  },
  {
   "cell_type": "code",
   "execution_count": 31,
   "id": "781d88e1-555a-4342-8d5e-3254cdf9546e",
   "metadata": {},
   "outputs": [
    {
     "data": {
      "text/plain": [
       "torch.Tensor"
      ]
     },
     "execution_count": 31,
     "metadata": {},
     "output_type": "execute_result"
    }
   ],
   "source": [
    "type(a)"
   ]
  },
  {
   "cell_type": "code",
   "execution_count": null,
   "id": "4cdc8377-fbf1-4509-9844-b3cab53f652d",
   "metadata": {},
   "outputs": [],
   "source": []
  }
 ],
 "metadata": {
  "kernelspec": {
   "display_name": "openmmlab",
   "language": "python",
   "name": "openmmlab"
  },
  "language_info": {
   "codemirror_mode": {
    "name": "ipython",
    "version": 3
   },
   "file_extension": ".py",
   "mimetype": "text/x-python",
   "name": "python",
   "nbconvert_exporter": "python",
   "pygments_lexer": "ipython3",
   "version": "3.8.19"
  }
 },
 "nbformat": 4,
 "nbformat_minor": 5
}
